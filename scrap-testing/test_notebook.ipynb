{
 "cells": [
  {
   "cell_type": "markdown",
   "id": "7091b956",
   "metadata": {},
   "source": [
    "# Scrap Testing Notebook\n"
   ]
  },
  {
   "cell_type": "code",
   "execution_count": 7,
   "id": "cdf1533b",
   "metadata": {},
   "outputs": [],
   "source": [
    "import numpy as np\n"
   ]
  },
  {
   "cell_type": "code",
   "execution_count": 9,
   "id": "86ae7732",
   "metadata": {},
   "outputs": [],
   "source": [
    "from neuralnetwork import activations\n",
    "from neuralnetwork.utils import generators"
   ]
  },
  {
   "cell_type": "code",
   "execution_count": 24,
   "id": "21c71cc0",
   "metadata": {},
   "outputs": [
    {
     "data": {
      "text/plain": [
       "array([[ 39.00019878],\n",
       "       [-54.82888518],\n",
       "       [-31.39136826],\n",
       "       [ 15.81758068],\n",
       "       [-65.31379668],\n",
       "       [-70.68549688],\n",
       "       [-16.4340244 ],\n",
       "       [ 35.29992163],\n",
       "       [-68.28601026],\n",
       "       [ 98.64926166]])"
      ]
     },
     "execution_count": 24,
     "metadata": {},
     "output_type": "execute_result"
    }
   ],
   "source": [
    "x = generators.random_array((10, 1), low=-100, high=100)\n",
    "x"
   ]
  },
  {
   "cell_type": "code",
   "execution_count": 25,
   "id": "7e5240ba",
   "metadata": {},
   "outputs": [
    {
     "data": {
      "text/plain": [
       "array([[1.00000000e+00],\n",
       "       [1.54211840e-24],\n",
       "       [2.32756590e-14],\n",
       "       [9.99999865e-01],\n",
       "       [4.31100484e-29],\n",
       "       [2.00298988e-31],\n",
       "       [7.29111345e-08],\n",
       "       [1.00000000e+00],\n",
       "       [2.20679785e-30],\n",
       "       [1.00000000e+00]])"
      ]
     },
     "execution_count": 25,
     "metadata": {},
     "output_type": "execute_result"
    }
   ],
   "source": [
    "activations.relu(x)"
   ]
  }
 ],
 "metadata": {
  "kernelspec": {
   "display_name": "neuralnetwork-_Dz1j7dm-py3.11",
   "language": "python",
   "name": "python3"
  },
  "language_info": {
   "codemirror_mode": {
    "name": "ipython",
    "version": 3
   },
   "file_extension": ".py",
   "mimetype": "text/x-python",
   "name": "python",
   "nbconvert_exporter": "python",
   "pygments_lexer": "ipython3",
   "version": "3.11.2"
  }
 },
 "nbformat": 4,
 "nbformat_minor": 5
}
